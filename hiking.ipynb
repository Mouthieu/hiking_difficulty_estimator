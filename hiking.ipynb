{
 "cells": [
  {
   "cell_type": "markdown",
   "metadata": {},
   "source": [
    "# Hiking difficulty auto-estimation"
   ]
  },
  {
   "cell_type": "markdown",
   "metadata": {},
   "source": [
    "The goal is to make an AI that can tell how hard a hike is based on the position or a image we provide. (And obviously a path)"
   ]
  },
  {
   "cell_type": "markdown",
   "metadata": {},
   "source": [
    "### Step 1 : Import modules"
   ]
  },
  {
   "cell_type": "code",
   "execution_count": 4,
   "metadata": {},
   "outputs": [],
   "source": [
    "import pandas as pd\n",
    "from bs4 import BeautifulSoup\n",
    "import json"
   ]
  },
  {
   "cell_type": "markdown",
   "metadata": {},
   "source": [
    "### Step 2: Fetch all the hiking data from a local .csv file"
   ]
  },
  {
   "cell_type": "markdown",
   "metadata": {},
   "source": [
    "The csv file can be downloaded from kaggle, here's the link : https://www.kaggle.com/datasets/roccoli/gpx-hike-tracks/data"
   ]
  },
  {
   "cell_type": "code",
   "execution_count": 5,
   "metadata": {},
   "outputs": [],
   "source": [
    "data = pd.read_csv(\"gpx-tracks-from-hikr.org.csv\")"
   ]
  },
  {
   "cell_type": "markdown",
   "metadata": {},
   "source": [
    "### Step 3: Transform the data into usable data"
   ]
  },
  {
   "cell_type": "markdown",
   "metadata": {},
   "source": [
    "We decided to use a dictionary to arrange our data. The data we fetched was already a kind of dictionary but not exactly thus, converting it into a dictionary was the most efficient and rapid way."
   ]
  },
  {
   "cell_type": "code",
   "execution_count": 6,
   "metadata": {},
   "outputs": [],
   "source": [
    "dict_data = {\n",
    "    \"_id\": data[\"_id\"].to_dict(),\n",
    "    \"length_3d\": data[\"length_3d\"].to_dict(),\n",
    "    \"user\": data[\"user\"].to_dict(),\n",
    "    \"start_time\": data[\"start_time\"].to_dict(),\n",
    "    \"max_elevation\": data[\"max_elevation\"].to_dict(),\n",
    "    \"bounds\": data[\"bounds\"].to_dict(),\n",
    "    \"uphill\": data[\"uphill\"].to_dict(),\n",
    "    \"moving_time\": data[\"moving_time\"].to_dict(),\n",
    "    \"end_time\": data[\"end_time\"].to_dict(),\n",
    "    \"max_speed\": data[\"max_speed\"].to_dict(),\n",
    "    \"gpx\": data[\"gpx\"].to_dict(),\n",
    "    \"difficulty\": data[\"difficulty\"].to_dict(),\n",
    "    \"min_elevation\": data[\"min_elevation\"].to_dict(),\n",
    "    \"url\": data[\"url\"].to_dict(),\n",
    "    \"downhill\": data[\"downhill\"].to_dict(),\n",
    "    \"name\": data[\"name\"].to_dict(),\n",
    "    \"length_2d\": data[\"length_2d\"].to_dict(),\n",
    "}"
   ]
  },
  {
   "cell_type": "markdown",
   "metadata": {},
   "source": [
    "### Step 4: Create a class to manipulate every Hike"
   ]
  },
  {
   "cell_type": "markdown",
   "metadata": {},
   "source": [
    "In order to manipulate easily every hike we get from our dictionary data, we will create a class with every attributes of the dictionary and different methods for the hike. We will for example define a method that will compute the average coordinates of the hike so that we could then fetch these coordinates on a map and easily get the position."
   ]
  },
  {
   "cell_type": "code",
   "execution_count": 7,
   "metadata": {},
   "outputs": [],
   "source": [
    "class Hike():\n",
    "    def __init__(self, number):\n",
    "        self.number        = number\n",
    "        self._id           = dict_data[\"_id\"][number]\n",
    "        self.length_3d     = dict_data[\"length_3d\"][number]\n",
    "        self.user          = dict_data[\"user\"][number]\n",
    "        self.start_time    = dict_data[\"start_time\"][number]\n",
    "        self.max_elevation = dict_data[\"max_elevation\"][number]\n",
    "        self.bounds        = dict_data[\"bounds\"][number]\n",
    "        self.uphill        = dict_data[\"uphill\"][number]\n",
    "        self.moving_time   = dict_data[\"moving_time\"][number]\n",
    "        self.end_time      = dict_data[\"end_time\"][number]\n",
    "        self.max_speed     = dict_data[\"max_speed\"][number]\n",
    "        self.gpx           = dict_data[\"gpx\"][number]\n",
    "        self.difficulty    = dict_data[\"difficulty\"][number]\n",
    "        self.min_elevation = dict_data[\"min_elevation\"][number]\n",
    "        self.url           = dict_data[\"url\"][number]\n",
    "        self.downhill      = dict_data[\"downhill\"][number]\n",
    "        self.name          = dict_data[\"name\"][number]\n",
    "        self.length_2d     = dict_data[\"length_2d\"][number]\n",
    "\n",
    "    def get_coordinates(self):\n",
    "        two_str = self.bounds.split(\"]\")\n",
    "        left_str, right_str = two_str[0], two_str[1]\n",
    "        min_coordinates = left_str.split(\"[\")[1]\n",
    "        max_coordinates = right_str.split(\"[\")[1]\n",
    "\n",
    "        min_long, min_lat = min_coordinates.split(\",\")\n",
    "        max_long, max_lat = max_coordinates.split(\",\")\n",
    "\n",
    "        print(min_lat, min_long)\n",
    "\n",
    "        latitude = (float(min_lat) + float(max_lat)) / 2\n",
    "        longitude = (float(min_long) + float(max_long)) / 2\n",
    "\n",
    "        return {\n",
    "            \"latitude\": latitude,\n",
    "            \"longitude\": longitude\n",
    "        }\n",
    "    \n",
    "    def get_elevations(self):\n",
    "        elev_list = self.gpx.split(\"ele\")\n",
    "        return_list = []\n",
    "        for i in range(1, len(elev_list), 2):\n",
    "            return_list.append(float(elev_list[i][1:-2]))\n",
    "        return return_list\n",
    "    \n",
    "    def get_times(self):\n",
    "        time__list = self.gpx.split(\"time\")\n",
    "        return_list = []\n",
    "        for i in range(1, len(time__list), 2):\n",
    "            return_list.append(time__list[i][12:-3])\n",
    "        return return_list[1:]\n",
    "    \n",
    "    def get_relative_times(self):\n",
    "        time_list = self.get_times()\n",
    "        return_list = []\n",
    "        for i in range(1, len(time_list)):\n",
    "            return_list.append(self._substract_times(self._compute_time(time_list[i]), self._compute_time(time_list[i-1])))\n",
    "        return [(0, 0, 0)] + return_list\n",
    "    \n",
    "    def get_cumulative_times(self):\n",
    "        start_time = self._compute_time(self.get_times()[0])\n",
    "        return_list = []\n",
    "        for time in self.get_times():\n",
    "            return_list.append(self._substract_times(self._compute_time(time), start_time))\n",
    "        return return_list\n",
    "    \n",
    "    def get_path_coordinates(self):\n",
    "        path_list = self.gpx.split(\"trkpt\")\n",
    "        return_list = []\n",
    "        for i in range(1, len(path_list), 2):\n",
    "            double_split = path_list[i].split('\"')\n",
    "            return_list.append((float(double_split[1]), float(double_split[3])))\n",
    "        return return_list\n",
    "    \n",
    "    def _compute_time(self, string):\n",
    "        return int(string.split(\":\")[0]), int(string.split(\":\")[1]), int(string.split(\":\")[2])\n",
    "    \n",
    "    def _substract_times(self, time1, time2):\n",
    "        seconds = time1[2] - time2[2]\n",
    "        minutes = time1[1] - time2[1]\n",
    "        hours   = time1[0] - time2[0]\n",
    "        if seconds < 0:\n",
    "            seconds += 60\n",
    "            minutes -= 1\n",
    "        if minutes < 0:\n",
    "            minutes += 60\n",
    "            hours -= 1\n",
    "        return (hours, minutes, seconds)"
   ]
  },
  {
   "cell_type": "markdown",
   "metadata": {},
   "source": [
    "### Step 5: Exporting the data"
   ]
  },
  {
   "cell_type": "markdown",
   "metadata": {},
   "source": [
    "We realized that Jupyter is not really good for webscraping because it is working asynchronously by default. The use of playwright, which will allow us to fetch data from a website, is not meant to be used on a notebook and we will then export our data into a .json file and use it on a different .py file, this will prevent us from the loading data and convert data tasks that takes a significant amount of time."
   ]
  },
  {
   "cell_type": "code",
   "execution_count": 8,
   "metadata": {},
   "outputs": [],
   "source": [
    "with open(\"hikes.json\", \"w\") as file:\n",
    "    json.dump(dict_data, file)"
   ]
  },
  {
   "cell_type": "code",
   "execution_count": 20,
   "metadata": {},
   "outputs": [],
   "source": [
    "hike = Hike(2)\n",
    "\n",
    "output_file = \"output.gpx\"\n",
    "\n",
    "with open(output_file, 'w', encoding='utf-8') as f:\n",
    "    f.write(hike.gpx)\n",
    "\n",
    "    # print(f.close())\n",
    "    # print(f.read())\n",
    "    # print(f.closed)\n"
   ]
  }
 ],
 "metadata": {
  "kernelspec": {
   "display_name": "Python 3",
   "language": "python",
   "name": "python3"
  },
  "language_info": {
   "codemirror_mode": {
    "name": "ipython",
    "version": 3
   },
   "file_extension": ".py",
   "mimetype": "text/x-python",
   "name": "python",
   "nbconvert_exporter": "python",
   "pygments_lexer": "ipython3",
   "version": "3.11.5"
  }
 },
 "nbformat": 4,
 "nbformat_minor": 2
}
